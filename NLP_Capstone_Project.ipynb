{
 "cells": [
  {
   "cell_type": "markdown",
   "metadata": {},
   "source": [
    "## NLP_Capstone_Project"
   ]
  },
  {
   "cell_type": "code",
   "execution_count": 14,
   "metadata": {},
   "outputs": [],
   "source": [
    "import pandas as pd\n",
    "import numpy as np\n",
    "import matplotlib.pylab as plt\n",
    "%matplotlib inline\n",
    "import seaborn as sns\n",
    "import re\n",
    "from nltk.corpus import stopwords\n",
    "import string\n",
    "import random\n",
    "from sklearn.pipeline import Pipeline\n",
    "from sklearn.feature_extraction.text import HashingVectorizer\n",
    "from sklearn.feature_extraction.text import CountVectorizer\n",
    "from sklearn.feature_extraction.text import TfidfTransformer\n",
    "from sklearn.feature_extraction.text import TfidfVectorizer\n",
    "from sklearn import metrics    \n",
    "from nltk.tokenize import word_tokenize\n",
    "from nltk.stem import PorterStemmer\n",
    "from nltk.corpus import stopwords\n",
    "from nltk.stem import WordNetLemmatizer \n",
    "import timeit\n",
    "from sklearn.decomposition import TruncatedSVD\n",
    "from sklearn.pipeline import make_pipeline\n",
    "from sklearn.preprocessing import Normalizer\n",
    "from nltk.corpus import gutenberg, stopwords\n",
    "from sklearn import ensemble\n",
    "from sklearn.model_selection import cross_val_score\n",
    "from sklearn.model_selection import train_test_split\n",
    "from sklearn.feature_extraction.text import TfidfVectorizer\n",
    "from sklearn.decomposition import TruncatedSVD\n",
    "from sklearn.pipeline import make_pipeline\n",
    "from sklearn.preprocessing import Normalizer\n",
    "from sklearn.preprocessing import normalize\n",
    "from sklearn.preprocessing import LabelEncoder\n",
    "from sklearn.cluster import KMeans\n",
    "from sklearn.cluster import MeanShift, estimate_bandwidth\n",
    "from sklearn.metrics import classification_report\n",
    "from sklearn.metrics import confusion_matrix\n",
    "from sklearn.linear_model import LogisticRegression\n",
    "from sklearn.datasets import fetch_20newsgroups"
   ]
  },
  {
   "cell_type": "markdown",
   "metadata": {},
   "source": [
    "## Exploring and modelling the 20 Newsgroups data set"
   ]
  },
  {
   "cell_type": "markdown",
   "metadata": {},
   "source": [
    "### Dataset description: \n",
    "the 20 Newsgroups data set is a collection of approximately 19K newsgroup documents.\n",
    "The original form of this dataset is at this page: http://qwone.com/~jason/20Newsgroups/    "
   ]
  },
  {
   "cell_type": "markdown",
   "metadata": {},
   "source": [
    "## Inspiration:\n",
    "Classifying text documents into various news groups"
   ]
  },
  {
   "cell_type": "markdown",
   "metadata": {},
   "source": [
    "## Sections:\n",
    "* Preparing full, train and test data set\n",
    "* Data cleaning: removing stopwords, filter out short words, stemming and lemmatization\n",
    "* vectorization: tf_idf\n",
    "* comparison Naive_Bayes performance between applying stemming and lemmatization \n",
    "* Exploring different ngrams in the vectorizer step\n",
    "* Exploring various ML algorithms: SVC, Logistic regression, Random forest, and Gradient boosting \n",
    "* Inspecting the top words calcualted by Naive_bayes\n",
    "* Text extraction: lsa, lda, and nnmf\n",
    "* Unsupervised learning with LSA: KMeans and GaussianMixture\n",
    "* Text summarization: tf_idf, calculate similarity, rank sentences based on scores\n",
    "* Word2vec\n"
   ]
  },
  {
   "cell_type": "markdown",
   "metadata": {},
   "source": [
    "### Preparing the full_dataset, train_dataset and test_dataset"
   ]
  },
  {
   "cell_type": "code",
   "execution_count": 15,
   "metadata": {},
   "outputs": [],
   "source": [
    "dataset_full = fetch_20newsgroups(subset='all', remove=('headers', 'footers', 'quotes'), shuffle=True, random_state=42)\n",
    "df_full = pd.DataFrame()\n",
    "df_full['text'] = dataset_full.data\n",
    "df_full['source'] = dataset_full.target\n",
    "label=[]\n",
    "for i in df_full['source']:\n",
    "    label.append(dataset_full.target_names[i])\n",
    "df_full['label']=label\n",
    "\n",
    "dataset_train = fetch_20newsgroups(subset='train', remove=('headers', 'footers', 'quotes'), shuffle=True, random_state=42)\n",
    "df_train = pd.DataFrame()\n",
    "df_train['text'] = dataset_train.data\n",
    "df_train['source'] = dataset_train.target\n",
    "label=[]\n",
    "for i in df_train['source']:\n",
    "    label.append(dataset_train.target_names[i])\n",
    "df_train['label']=label\n",
    "\n",
    "dataset_test = fetch_20newsgroups(subset='test', remove=('headers', 'footers', 'quotes'), shuffle=True, random_state=42)\n",
    "df_test = pd.DataFrame()\n",
    "df_test['text'] = dataset_test.data\n",
    "df_test['source'] = dataset_test.target\n",
    "label=[]\n",
    "for i in df_test['source']:\n",
    "    label.append(dataset_test.target_names[i])\n",
    "df_test['label']=label"
   ]
  },
  {
   "cell_type": "markdown",
   "metadata": {},
   "source": [
    "### Data cleaning"
   ]
  },
  {
   "cell_type": "markdown",
   "metadata": {},
   "source": [
    "* Removing stopwords\n",
    "* Filter out short words\n",
    "* Lowercase and removing everything except words\n",
    "* Applying stemming vs lemmatization to the text"
   ]
  },
  {
   "cell_type": "code",
   "execution_count": 20,
   "metadata": {},
   "outputs": [],
   "source": [
    "stopWords = set(stopwords.words('english'))\n",
    "\n",
    "def textcleaner_stem(text):\n",
    "    ''' Takes in raw unformatted text and strips punctuation, removes whitespace,\n",
    "    strips numbers, tokenizes and stems.\n",
    "    Returns string of processed text to be used into CountVectorizer\n",
    "    '''\n",
    "    # Lowercase and strip everything except words\n",
    "    cleaner = re.sub(r\"[^a-zA-Z ]+\", ' ', text.lower())\n",
    "    # Tokenize\n",
    "    cleaner = word_tokenize(cleaner)\n",
    "    ps = PorterStemmer()\n",
    "    clean = []\n",
    "    for w in cleaner:\n",
    "        # filter out stopwords\n",
    "        if w not in stopWords:\n",
    "            # filter out short words\n",
    "            if len(w)>2:\n",
    "                # Stem \n",
    "                clean.append(ps.stem(w))\n",
    "    return ' '.join(clean)"
   ]
  },
  {
   "cell_type": "code",
   "execution_count": 21,
   "metadata": {},
   "outputs": [],
   "source": [
    "df_full['clean_text_stem'] = df_full.text.apply(lambda x: textcleaner_stem(x))\n",
    "df_train['clean_text_stem'] = df_train.text.apply(lambda x: textcleaner_stem(x))\n",
    "df_test['clean_text_stem'] = df_test.text.apply(lambda x: textcleaner_stem(x))"
   ]
  },
  {
   "cell_type": "code",
   "execution_count": 26,
   "metadata": {},
   "outputs": [],
   "source": [
    "from nltk.stem import WordNetLemmatizer\n",
    "lemmatizer = WordNetLemmatizer()\n",
    "\n",
    "stopWords = set(stopwords.words('english'))\n",
    "\n",
    "def textcleaner_lemmas(text):\n",
    "    ''' Takes in raw unformatted text and strips punctuation, removes whitespace,\n",
    "    strips numbers, tokenizes and stems.\n",
    "    Returns string of processed text to be used into CountVectorizer\n",
    "    '''\n",
    "    # Lowercase and strip everything except words\n",
    "    cleaner = re.sub(r\"[^a-zA-Z ]+\", ' ', text.lower())\n",
    "    # Tokenize\n",
    "    cleaner = word_tokenize(cleaner)\n",
    "    ps = PorterStemmer()\n",
    "    clean = []\n",
    "    for w in cleaner:\n",
    "        # filter out stopwords\n",
    "        if w not in stopWords:\n",
    "            # filter out short words\n",
    "            if len(w)>2:\n",
    "                # lemmatizer \n",
    "                clean.append(lemmatizer.lemmatize(w))\n",
    "    return ' '.join(clean)"
   ]
  },
  {
   "cell_type": "code",
   "execution_count": 27,
   "metadata": {},
   "outputs": [],
   "source": [
    "df_full['clean_text_lemma'] = df_full.text.apply(lambda x: textcleaner_lemmas(x))\n",
    "df_train['clean_text_lemma'] = df_train.text.apply(lambda x: textcleaner_lemmas(x))\n",
    "df_test['clean_text_lemma'] = df_test.text.apply(lambda x: textcleaner_lemmas(x))"
   ]
  },
  {
   "cell_type": "markdown",
   "metadata": {},
   "source": [
    "### Converet sentences to vectors: test_stem to tf_idf"
   ]
  },
  {
   "cell_type": "code",
   "execution_count": 507,
   "metadata": {},
   "outputs": [
    {
     "data": {
      "text/plain": [
       "21465"
      ]
     },
     "execution_count": 507,
     "metadata": {},
     "output_type": "execute_result"
    }
   ],
   "source": [
    "vectorizer = TfidfVectorizer(min_df=6, strip_accents='ascii', analyzer='word', lowercase=True,\n",
    "                             ngram_range=(1,2))\n",
    "\n",
    "x_train_stem = vectorizer.fit_transform(df_train['clean_text_stem'])\n",
    "y_train_stem = df_train['source']\n",
    "x_test_stem = vectorizer.transform(df_test['clean_text_stem'])\n",
    "y_test_stem = df_test['source']\n",
    "features_train = vectorizer.get_feature_names()\n",
    "len(features_train)"
   ]
  },
  {
   "cell_type": "markdown",
   "metadata": {},
   "source": [
    "### Naive_bayes: test the stem_text"
   ]
  },
  {
   "cell_type": "code",
   "execution_count": 508,
   "metadata": {},
   "outputs": [
    {
     "name": "stdout",
     "output_type": "stream",
     "text": [
      "Run time: 0.057\n",
      "Accuracy is: 0.670\n",
      "                          precision    recall  f1-score   support\n",
      "\n",
      "             alt.atheism       0.67      0.17      0.27       319\n",
      "           comp.graphics       0.63      0.68      0.66       389\n",
      " comp.os.ms-windows.misc       0.66      0.57      0.61       394\n",
      "comp.sys.ibm.pc.hardware       0.59      0.68      0.63       392\n",
      "   comp.sys.mac.hardware       0.73      0.63      0.68       385\n",
      "          comp.windows.x       0.76      0.77      0.76       395\n",
      "            misc.forsale       0.80      0.76      0.78       390\n",
      "               rec.autos       0.82      0.71      0.76       396\n",
      "         rec.motorcycles       0.83      0.74      0.78       398\n",
      "      rec.sport.baseball       0.92      0.79      0.85       397\n",
      "        rec.sport.hockey       0.57      0.92      0.71       399\n",
      "               sci.crypt       0.69      0.78      0.73       396\n",
      "         sci.electronics       0.64      0.51      0.57       393\n",
      "                 sci.med       0.82      0.77      0.79       396\n",
      "               sci.space       0.76      0.75      0.76       394\n",
      "  soc.religion.christian       0.37      0.91      0.53       398\n",
      "      talk.politics.guns       0.58      0.72      0.64       364\n",
      "   talk.politics.mideast       0.79      0.79      0.79       376\n",
      "      talk.politics.misc       0.86      0.33      0.47       310\n",
      "      talk.religion.misc       0.83      0.02      0.04       251\n",
      "\n",
      "                accuracy                           0.67      7532\n",
      "               macro avg       0.72      0.65      0.64      7532\n",
      "            weighted avg       0.71      0.67      0.66      7532\n",
      "\n"
     ]
    }
   ],
   "source": [
    "from sklearn.naive_bayes import MultinomialNB\n",
    "\n",
    "# Start timing\n",
    "start = timeit.default_timer()\n",
    "\n",
    "#Initialize and fit\n",
    "nb = MultinomialNB()\n",
    "nb.fit(x_train_stem, y_train_stem)\n",
    "\n",
    "# Apply to testing data\n",
    "y_pred_stem = nb.predict(x_test_stem)\n",
    "\n",
    "# Stop timing\n",
    "stop = timeit.default_timer()\n",
    "nb_time = stop-start\n",
    "print(\"Run time: %0.3f\" % (nb_time))\n",
    "\n",
    "# Showing model performance\n",
    "print(\"Accuracy is: %0.3f\" % nb.score(x_test_stem, y_test_stem))\n",
    "print(metrics.classification_report(y_test_stem, y_pred_stem, target_names=dataset_test.target_names))"
   ]
  },
  {
   "cell_type": "markdown",
   "metadata": {},
   "source": [
    "### Converet sentences to vectors: test_lemma to tf_idf"
   ]
  },
  {
   "cell_type": "code",
   "execution_count": 509,
   "metadata": {},
   "outputs": [
    {
     "data": {
      "text/plain": [
       "22027"
      ]
     },
     "execution_count": 509,
     "metadata": {},
     "output_type": "execute_result"
    }
   ],
   "source": [
    "vectorizer = TfidfVectorizer(min_df=6, strip_accents='ascii', analyzer='word', lowercase=True,\n",
    "                             ngram_range=(1,2))\n",
    "\n",
    "x_train_lemma = vectorizer.fit_transform(df_train['clean_text_lemma'])\n",
    "y_train_lemma = df_train['source']\n",
    "x_test_lemma = vectorizer.transform(df_test['clean_text_lemma'])\n",
    "y_test_lemma = df_test['source']\n",
    "features_train = vectorizer.get_feature_names()\n",
    "len(features_train)"
   ]
  },
  {
   "cell_type": "markdown",
   "metadata": {},
   "source": [
    "### Naive_bayes: test the lemma_text"
   ]
  },
  {
   "cell_type": "code",
   "execution_count": 510,
   "metadata": {},
   "outputs": [
    {
     "name": "stdout",
     "output_type": "stream",
     "text": [
      "Run time: 0.058\n",
      "Accuracy is: 0.671\n",
      "                          precision    recall  f1-score   support\n",
      "\n",
      "             alt.atheism       0.71      0.19      0.30       319\n",
      "           comp.graphics       0.63      0.67      0.65       389\n",
      " comp.os.ms-windows.misc       0.62      0.57      0.60       394\n",
      "comp.sys.ibm.pc.hardware       0.59      0.68      0.63       392\n",
      "   comp.sys.mac.hardware       0.73      0.62      0.67       385\n",
      "          comp.windows.x       0.75      0.77      0.76       395\n",
      "            misc.forsale       0.78      0.78      0.78       390\n",
      "               rec.autos       0.81      0.70      0.75       396\n",
      "         rec.motorcycles       0.83      0.76      0.79       398\n",
      "      rec.sport.baseball       0.90      0.79      0.84       397\n",
      "        rec.sport.hockey       0.57      0.92      0.71       399\n",
      "               sci.crypt       0.69      0.77      0.73       396\n",
      "         sci.electronics       0.66      0.52      0.58       393\n",
      "                 sci.med       0.83      0.78      0.80       396\n",
      "               sci.space       0.77      0.74      0.75       394\n",
      "  soc.religion.christian       0.38      0.91      0.53       398\n",
      "      talk.politics.guns       0.59      0.73      0.65       364\n",
      "   talk.politics.mideast       0.79      0.80      0.79       376\n",
      "      talk.politics.misc       0.85      0.31      0.46       310\n",
      "      talk.religion.misc       0.86      0.02      0.05       251\n",
      "\n",
      "                accuracy                           0.67      7532\n",
      "               macro avg       0.72      0.65      0.64      7532\n",
      "            weighted avg       0.71      0.67      0.66      7532\n",
      "\n"
     ]
    }
   ],
   "source": [
    "from sklearn.naive_bayes import MultinomialNB\n",
    "\n",
    "# Start timing\n",
    "start = timeit.default_timer()\n",
    "\n",
    "#Initialize and fit\n",
    "nb = MultinomialNB()\n",
    "nb.fit(x_train_lemma, y_train_lemma)\n",
    "\n",
    "# Apply to testing data\n",
    "y_pred_lemma = nb.predict(x_test_lemma)\n",
    "\n",
    "# Stop timing\n",
    "stop = timeit.default_timer()\n",
    "nb_time = stop-start\n",
    "print(\"Run time: %0.3f\" % (nb_time))\n",
    "\n",
    "# Showing model performance\n",
    "print(\"Accuracy is: %0.3f\" % nb.score(x_test_lemma, y_test_lemma))\n",
    "print(metrics.classification_report(y_test_lemma, y_pred_lemma, target_names=dataset_test.target_names))"
   ]
  },
  {
   "cell_type": "markdown",
   "metadata": {},
   "source": [
    "### Comparison between stemming and lemmatization:\n",
    "* no significant accuracy different as applying different mothods\n",
    "* the running time using naive_bayes is quite fast\n",
    "* the following study will use the lemmatized text"
   ]
  },
  {
   "cell_type": "markdown",
   "metadata": {},
   "source": [
    "### Exploring different ngrams in the vectorizer step"
   ]
  },
  {
   "cell_type": "code",
   "execution_count": 511,
   "metadata": {},
   "outputs": [
    {
     "name": "stdout",
     "output_type": "stream",
     "text": [
      "12118\n",
      "Run time: 0.040\n",
      "Accuracy is: 0.673\n",
      "22027\n",
      "Run time: 0.050\n",
      "Accuracy is: 0.671\n",
      "23307\n",
      "Run time: 0.054\n",
      "Accuracy is: 0.670\n"
     ]
    }
   ],
   "source": [
    "for n in range(1,4):\n",
    "    vectorizer = TfidfVectorizer(min_df=6, strip_accents='ascii', analyzer='word', lowercase=True,\n",
    "                                 ngram_range=(1,n))\n",
    "\n",
    "    x_train_lemma = vectorizer.fit_transform(df_train['clean_text_lemma'])\n",
    "    y_train_lemma = df_train['source']\n",
    "    x_test_lemma = vectorizer.transform(df_test['clean_text_lemma'])\n",
    "    y_test_lemma = df_test['source']\n",
    "    features_train = vectorizer.get_feature_names()\n",
    "    print(len(features_train))\n",
    "    \n",
    "# Start timing\n",
    "    start = timeit.default_timer()\n",
    "\n",
    "#Initialize and fit\n",
    "    nb = MultinomialNB()\n",
    "    nb.fit(x_train_lemma, y_train_lemma)\n",
    "\n",
    "# Apply to testing data\n",
    "    y_pred_lemma = nb.predict(x_test_lemma)\n",
    "\n",
    "# Stop timing\n",
    "    stop = timeit.default_timer()\n",
    "    nb_time = stop-start\n",
    "    print(\"Run time: %0.3f\" % (nb_time))\n",
    "\n",
    "# Showing model performance\n",
    "    print(\"Accuracy is: %0.3f\" % nb.score(x_test_lemma, y_test_lemma))"
   ]
  },
  {
   "cell_type": "markdown",
   "metadata": {},
   "source": [
    "##### As using different ngrams, there is no clear effect on the model prediction accuracy "
   ]
  },
  {
   "cell_type": "markdown",
   "metadata": {},
   "source": [
    "### Exploring more ml algorithms: SVC, Logistic regression, Random forest, and Gradient boosting"
   ]
  },
  {
   "cell_type": "code",
   "execution_count": 513,
   "metadata": {},
   "outputs": [],
   "source": [
    "X_train =  x_train_lemma\n",
    "Y_train = y_train_lemma\n",
    "X_test = x_test_lemma \n",
    "Y_test = y_test_lemma"
   ]
  },
  {
   "cell_type": "markdown",
   "metadata": {},
   "source": [
    "### SVC"
   ]
  },
  {
   "cell_type": "code",
   "execution_count": 500,
   "metadata": {},
   "outputs": [
    {
     "name": "stdout",
     "output_type": "stream",
     "text": [
      "Run time:104.975\n",
      "Accuracy is: 0.658\n",
      "                          precision    recall  f1-score   support\n",
      "\n",
      "             alt.atheism       0.47      0.50      0.49       319\n",
      "           comp.graphics       0.58      0.68      0.62       389\n",
      " comp.os.ms-windows.misc       0.62      0.60      0.61       394\n",
      "comp.sys.ibm.pc.hardware       0.64      0.64      0.64       392\n",
      "   comp.sys.mac.hardware       0.69      0.64      0.67       385\n",
      "          comp.windows.x       0.80      0.64      0.71       395\n",
      "            misc.forsale       0.77      0.77      0.77       390\n",
      "               rec.autos       0.44      0.75      0.55       396\n",
      "         rec.motorcycles       0.67      0.73      0.70       398\n",
      "      rec.sport.baseball       0.78      0.78      0.78       397\n",
      "        rec.sport.hockey       0.91      0.82      0.86       399\n",
      "               sci.crypt       0.84      0.64      0.73       396\n",
      "         sci.electronics       0.53      0.57      0.55       393\n",
      "                 sci.med       0.79      0.71      0.75       396\n",
      "               sci.space       0.67      0.71      0.69       394\n",
      "  soc.religion.christian       0.69      0.70      0.69       398\n",
      "      talk.politics.guns       0.59      0.66      0.62       364\n",
      "   talk.politics.mideast       0.84      0.69      0.76       376\n",
      "      talk.politics.misc       0.55      0.44      0.49       310\n",
      "      talk.religion.misc       0.40      0.27      0.32       251\n",
      "\n",
      "                accuracy                           0.66      7532\n",
      "               macro avg       0.66      0.65      0.65      7532\n",
      "            weighted avg       0.67      0.66      0.66      7532\n",
      "\n"
     ]
    }
   ],
   "source": [
    "from sklearn.svm import SVC\n",
    "\n",
    "# Start timing\n",
    "start = timeit.default_timer()\n",
    "\n",
    "# Create instance and fit\n",
    "sv = SVC(kernel='linear')\n",
    "sv.fit(X_train, Y_train)\n",
    "\n",
    "# Apply to testing data\n",
    "y_pred = sv.predict(X_test)\n",
    "\n",
    "# Stop timing\n",
    "stop = timeit.default_timer()\n",
    "sv_time = stop - start\n",
    "print(\"Run time:%0.3f\" %sv_time)\n",
    "\n",
    "# Showing model performance\n",
    "cross = pd.crosstab(y_pred, Y_test)\n",
    "print(\"Accuracy is: %0.3f\" % sv.score(X_test, Y_test))\n",
    "print(metrics.classification_report(Y_test, y_pred, target_names=dataset_test.target_names))"
   ]
  },
  {
   "cell_type": "markdown",
   "metadata": {},
   "source": [
    "### LogisticRegression"
   ]
  },
  {
   "cell_type": "code",
   "execution_count": 515,
   "metadata": {
    "scrolled": true
   },
   "outputs": [
    {
     "name": "stdout",
     "output_type": "stream",
     "text": [
      "Run time:472.972\n",
      "Accuracy is: 0.678\n",
      "                          precision    recall  f1-score   support\n",
      "\n",
      "             alt.atheism       0.50      0.48      0.49       319\n",
      "           comp.graphics       0.62      0.67      0.65       389\n",
      " comp.os.ms-windows.misc       0.63      0.59      0.61       394\n",
      "comp.sys.ibm.pc.hardware       0.65      0.62      0.64       392\n",
      "   comp.sys.mac.hardware       0.70      0.66      0.68       385\n",
      "          comp.windows.x       0.78      0.71      0.75       395\n",
      "            misc.forsale       0.75      0.78      0.77       390\n",
      "               rec.autos       0.74      0.68      0.71       396\n",
      "         rec.motorcycles       0.73      0.77      0.75       398\n",
      "      rec.sport.baseball       0.53      0.83      0.64       397\n",
      "        rec.sport.hockey       0.89      0.89      0.89       399\n",
      "               sci.crypt       0.85      0.67      0.75       396\n",
      "         sci.electronics       0.54      0.57      0.55       393\n",
      "                 sci.med       0.76      0.78      0.77       396\n",
      "               sci.space       0.72      0.75      0.74       394\n",
      "  soc.religion.christian       0.63      0.79      0.70       398\n",
      "      talk.politics.guns       0.58      0.68      0.63       364\n",
      "   talk.politics.mideast       0.85      0.73      0.79       376\n",
      "      talk.politics.misc       0.54      0.46      0.50       310\n",
      "      talk.religion.misc       0.51      0.17      0.26       251\n",
      "\n",
      "                accuracy                           0.68      7532\n",
      "               macro avg       0.68      0.66      0.66      7532\n",
      "            weighted avg       0.68      0.68      0.67      7532\n",
      "\n"
     ]
    }
   ],
   "source": [
    "from sklearn.linear_model import LogisticRegression\n",
    "\n",
    "# Start timing\n",
    "start = timeit.default_timer()\n",
    "\n",
    "lr = LogisticRegression()\n",
    "lr.fit(X_train, Y_train)\n",
    "\n",
    "y_pred = lr.predict(X_test)\n",
    "\n",
    "# Stop timing\n",
    "stop = timeit.default_timer()\n",
    "lr_time = stop - start\n",
    "print(\"Run time:%0.3f\" %sv_time)\n",
    "\n",
    "# Showing model performance\n",
    "cross = pd.crosstab(y_pred, Y_test)\n",
    "print(\"Accuracy is: %0.3f\" % lr.score(X_test, Y_test))\n",
    "print(metrics.classification_report(Y_test, y_pred, target_names=dataset_test.target_names));"
   ]
  },
  {
   "cell_type": "markdown",
   "metadata": {},
   "source": [
    "### GradientBoosting"
   ]
  },
  {
   "cell_type": "code",
   "execution_count": 516,
   "metadata": {},
   "outputs": [
    {
     "name": "stdout",
     "output_type": "stream",
     "text": [
      "Run time:472.972\n",
      "Accuracy is: 0.594\n",
      "                          precision    recall  f1-score   support\n",
      "\n",
      "             alt.atheism       0.50      0.48      0.49       319\n",
      "           comp.graphics       0.62      0.67      0.65       389\n",
      " comp.os.ms-windows.misc       0.63      0.59      0.61       394\n",
      "comp.sys.ibm.pc.hardware       0.65      0.62      0.64       392\n",
      "   comp.sys.mac.hardware       0.70      0.66      0.68       385\n",
      "          comp.windows.x       0.78      0.71      0.75       395\n",
      "            misc.forsale       0.75      0.78      0.77       390\n",
      "               rec.autos       0.74      0.68      0.71       396\n",
      "         rec.motorcycles       0.73      0.77      0.75       398\n",
      "      rec.sport.baseball       0.53      0.83      0.64       397\n",
      "        rec.sport.hockey       0.89      0.89      0.89       399\n",
      "               sci.crypt       0.85      0.67      0.75       396\n",
      "         sci.electronics       0.54      0.57      0.55       393\n",
      "                 sci.med       0.76      0.78      0.77       396\n",
      "               sci.space       0.72      0.75      0.74       394\n",
      "  soc.religion.christian       0.63      0.79      0.70       398\n",
      "      talk.politics.guns       0.58      0.68      0.63       364\n",
      "   talk.politics.mideast       0.85      0.73      0.79       376\n",
      "      talk.politics.misc       0.54      0.46      0.50       310\n",
      "      talk.religion.misc       0.51      0.17      0.26       251\n",
      "\n",
      "                accuracy                           0.68      7532\n",
      "               macro avg       0.68      0.66      0.66      7532\n",
      "            weighted avg       0.68      0.68      0.67      7532\n",
      "\n"
     ]
    }
   ],
   "source": [
    "from sklearn import ensemble\n",
    "\n",
    "# Start timing\n",
    "start = timeit.default_timer()\n",
    "\n",
    "gbc = ensemble.GradientBoostingClassifier()\n",
    "gbc.fit(X_train, Y_train)\n",
    "\n",
    "pred = gbc.predict(X_test)\n",
    "\n",
    "# Stop timing\n",
    "stop = timeit.default_timer()\n",
    "gbc_time = stop - start\n",
    "print(\"Run time:%0.3f\" %sv_time)\n",
    "\n",
    "# Showing model performance\n",
    "cross = pd.crosstab(y_pred, Y_test)\n",
    "print(\"Accuracy is: %0.3f\" % gbc.score(X_test, Y_test))\n",
    "print(metrics.classification_report(Y_test, y_pred, target_names=dataset_test.target_names))\n"
   ]
  },
  {
   "cell_type": "markdown",
   "metadata": {},
   "source": [
    "### RandomForest"
   ]
  },
  {
   "cell_type": "code",
   "execution_count": 526,
   "metadata": {},
   "outputs": [
    {
     "name": "stderr",
     "output_type": "stream",
     "text": [
      "C:\\ProgramData\\Anaconda3\\lib\\site-packages\\sklearn\\ensemble\\forest.py:245: FutureWarning: The default value of n_estimators will change from 10 in version 0.20 to 100 in 0.22.\n",
      "  \"10 in version 0.20 to 100 in 0.22.\", FutureWarning)\n"
     ]
    },
    {
     "name": "stdout",
     "output_type": "stream",
     "text": [
      "Run time:2.890\n",
      "Accuracy is: 0.534\n",
      "Accuracy is: 0.968\n",
      "                          precision    recall  f1-score   support\n",
      "\n",
      "             alt.atheism       0.31      0.40      0.35       319\n",
      "           comp.graphics       0.42      0.53      0.47       389\n",
      " comp.os.ms-windows.misc       0.45      0.53      0.49       394\n",
      "comp.sys.ibm.pc.hardware       0.47      0.45      0.46       392\n",
      "   comp.sys.mac.hardware       0.57      0.52      0.54       385\n",
      "          comp.windows.x       0.50      0.53      0.51       395\n",
      "            misc.forsale       0.58      0.68      0.62       390\n",
      "               rec.autos       0.37      0.63      0.46       396\n",
      "         rec.motorcycles       0.65      0.63      0.64       398\n",
      "      rec.sport.baseball       0.61      0.73      0.66       397\n",
      "        rec.sport.hockey       0.79      0.70      0.74       399\n",
      "               sci.crypt       0.71      0.58      0.64       396\n",
      "         sci.electronics       0.46      0.34      0.39       393\n",
      "                 sci.med       0.62      0.54      0.57       396\n",
      "               sci.space       0.66      0.54      0.60       394\n",
      "  soc.religion.christian       0.57      0.66      0.61       398\n",
      "      talk.politics.guns       0.52      0.49      0.50       364\n",
      "   talk.politics.mideast       0.78      0.64      0.70       376\n",
      "      talk.politics.misc       0.42      0.21      0.28       310\n",
      "      talk.religion.misc       0.20      0.10      0.13       251\n",
      "\n",
      "                accuracy                           0.53      7532\n",
      "               macro avg       0.53      0.52      0.52      7532\n",
      "            weighted avg       0.54      0.53      0.53      7532\n",
      "\n"
     ]
    }
   ],
   "source": [
    "from sklearn import ensemble\n",
    "\n",
    "# Start timing\n",
    "start = timeit.default_timer()\n",
    "\n",
    "rfc = ensemble.RandomForestClassifier()\n",
    "rfc.fit(X_train, Y_train)\n",
    "\n",
    "y_pred = rfc.predict(X_test)\n",
    "\n",
    "# Stop timing\n",
    "stop = timeit.default_timer()\n",
    "rfc_time = stop - start\n",
    "print(\"Run time:%0.3f\" %rfc_time)\n",
    "\n",
    "# Showing model performance\n",
    "cross = pd.crosstab(y_pred, Y_test)\n",
    "print(\"Accuracy is: %0.3f\" % rfc.score(X_test, Y_test))\n",
    "print(\"Accuracy is: %0.3f\" % rfc.score(X_train, Y_train))\n",
    "print(metrics.classification_report(Y_test, y_pred, target_names=dataset_test.target_names));"
   ]
  },
  {
   "cell_type": "code",
   "execution_count": 675,
   "metadata": {},
   "outputs": [
    {
     "data": {
      "image/png": "[encoded data removed]",
      "text/plain": [
       "<Figure size 720x288 with 1 Axes>"
      ]
     },
     "metadata": {
      "needs_background": "light"
     },
     "output_type": "display_data"
    }
   ],
   "source": [
    "accuracy = [0.671,0.658,0.678,0.594,0.534]\n",
    "\n",
    "labels = ['Naive Bayes', 'SVC', 'Logistic regression', 'Gradient boosting','Random forest']\n",
    "x = np.arange(len(labels))  # the label locations\n",
    "width = 0.3  # the width of the bars\n",
    "fig, ax = plt.subplots(1, 1,  figsize=(10, 4))\n",
    "g1 = ax.bar(x, accuracy, width, label='Model accuracy')\n",
    "\n",
    "ax.set_ylabel('Model accuracy')\n",
    "ax.set_title('Comparison for different ML algorithms')\n",
    "ax.set_xticks(x)\n",
    "ax.set_xticklabels(labels, rotation=50)\n",
    "ax.set_ylim(0, 1)\n",
    "ax.legend();"
   ]
  },
  {
   "cell_type": "markdown",
   "metadata": {},
   "source": [
    "##### Summary: naive bayes and logistice regression performs the best in terms of model prediction accuracy. However, naive bayes running much faster than any other ML models, therefore should be the best algorithms for this test."
   ]
  },
  {
   "cell_type": "markdown",
   "metadata": {},
   "source": [
    "### Inspecting the top words calcualted by Naive_bayes"
   ]
  },
  {
   "cell_type": "code",
   "execution_count": 689,
   "metadata": {},
   "outputs": [
    {
     "name": "stdout",
     "output_type": "stream",
     "text": [
      "alt.atheism: islam would say atheism think people one religion atheist god\n",
      "comp.graphics: would anyone color know format program thanks image file graphic\n",
      "comp.os.ms-windows.misc: card use win font program problem do driver file window\n",
      "comp.sys.ibm.pc.hardware: thanks system monitor disk ide bus controller scsi card drive\n",
      "comp.sys.mac.hardware: quadra simms thanks one card monitor problem drive apple mac\n",
      "comp.windows.x: program thanks display file use application motif widget server window\n",
      "misc.forsale: drive asking please sell price condition new shipping offer sale\n",
      "rec.autos: good ford auto get one dealer would like engine car\n",
      "rec.motorcycles: dog rider riding like helmet one ride dod motorcycle bike\n",
      "rec.sport.baseball: pitching fan last hit run baseball player team year game\n",
      "rec.sport.hockey: goal year playoff nhl season play player hockey team game\n",
      "sci.crypt: escrow system phone would nsa government clipper encryption chip key\n",
      "sci.electronics: voltage know like power chip anyone use would one circuit\n",
      "sci.med: geb gordon gordon bank edu one food doctor patient disease msg\n",
      "sci.space: like satellite earth shuttle moon launch would orbit nasa space\n",
      "soc.religion.christian: faith bible christ people one would church jesus christian god\n",
      "talk.politics.guns: government fire fbi right law firearm people would weapon gun\n",
      "talk.politics.mideast: would palestinian one people turkish jew arab israeli armenian israel\n",
      "talk.politics.misc: think law one president homosexual state would government tax people\n",
      "talk.religion.misc: think objective say would one bible people jesus christian god\n"
     ]
    }
   ],
   "source": [
    "def show_top10(classifier, vectorizer, categories):\n",
    "    feature_names = np.asarray(vectorizer.get_feature_names())\n",
    "    for i, category in enumerate(categories):\n",
    "        top10 = np.argsort(classifier.coef_[i])[-10:]\n",
    "        print(\"%s: %s\" % (category, \" \".join(feature_names[top10])))\n",
    "        \n",
    "a = show_top10(nb, vectorizer, dataset.target_names)"
   ]
  },
  {
   "cell_type": "markdown",
   "metadata": {},
   "source": [
    "##### There are seems five main fields that the news groups trying to focus: computer, recreation, science, religion and politics. Different new groups that reporting the same fields tend to use very similar words, therefore it makes the prediction very hard to distinguish different new groups in the same fields."
   ]
  },
  {
   "cell_type": "markdown",
   "metadata": {},
   "source": [
    "### Text extraction: lsa, lda, and nnmf"
   ]
  },
  {
   "cell_type": "code",
   "execution_count": 733,
   "metadata": {},
   "outputs": [],
   "source": [
    "# Number of topics.\n",
    "ntopics=20\n",
    "\n",
    "# Linking words to topics\n",
    "def word_topic(tfidf, solution, wordlist):\n",
    "    \n",
    "    # Loading scores for each word on each topic/component.\n",
    "    words_by_topic=tfidf.T * solution\n",
    "\n",
    "    # Linking the loadings to the words in an easy-to-read way.\n",
    "    components=pd.DataFrame(words_by_topic,index=wordlist)\n",
    "\n",
    "    return components\n",
    "    \n",
    "# Extracts the top N words and their loadings for each topic.\n",
    "def top_words(components, n_top_words):\n",
    "    n_topics = range(components.shape[1])\n",
    "    index= np.repeat(n_topics, n_top_words, axis=0)\n",
    "    topwords=pd.Series(index=index)\n",
    "    for column in range(components.shape[1]):\n",
    "        # Sort the column so that highest loadings are at the top.\n",
    "        sortedwords=components.iloc[:,column].sort_values(ascending=False)\n",
    "        # Choose the N highest loadings.\n",
    "        chosen=sortedwords[:n_top_words]\n",
    "        # Combine loading and index into a string.\n",
    "        chosenlist=chosen.index +\" \"+round(chosen,2).map(str) \n",
    "        topwords.loc[column]=[x for x in chosenlist]\n",
    "    return(topwords)\n",
    "\n",
    "# Number of words to look at for each topic.\n",
    "n_top_words = 10"
   ]
  },
  {
   "cell_type": "markdown",
   "metadata": {},
   "source": [
    "##### Since we know there are totally 20 news groups, we will use this number now. However, for unsupervised learn, we have to try different numbers and inpect the clusters."
   ]
  },
  {
   "cell_type": "markdown",
   "metadata": {},
   "source": [
    "### LSA"
   ]
  },
  {
   "cell_type": "code",
   "execution_count": 716,
   "metadata": {},
   "outputs": [],
   "source": [
    "terms = vectorizer.get_feature_names()\n",
    "\n",
    "svd= TruncatedSVD(ntopics)\n",
    "lsa = make_pipeline(svd, Normalizer(copy=False))\n",
    "news_group_lsa = lsa.fit_transform(x_train_lemma)\n",
    "\n",
    "components_lsa = word_topic(x_train_lemma, news_group_lsa, terms)\n",
    "\n",
    "topwords=pd.DataFrame()\n",
    "topwords['LSA']=top_words(components_lsa, n_top_words) "
   ]
  },
  {
   "cell_type": "markdown",
   "metadata": {},
   "source": [
    "### LDA"
   ]
  },
  {
   "cell_type": "code",
   "execution_count": 717,
   "metadata": {},
   "outputs": [],
   "source": [
    "from sklearn.decomposition import LatentDirichletAllocation as LDA\n",
    "\n",
    "lda = LDA(n_components=ntopics, \n",
    "          doc_topic_prior=None, # Prior = 1/n_documents\n",
    "          topic_word_prior=1/ntopics,\n",
    "          learning_decay=0.7, # Convergence rate.\n",
    "          learning_offset=10.0, # Causes earlier iterations to have less influence on the learning\n",
    "          max_iter=10, # when to stop even if the model is not converging (to prevent running forever)\n",
    "          evaluate_every=-1, # Do not evaluate perplexity, as it slows training time.\n",
    "          mean_change_tol=0.001, # Stop updating the document topic distribution in the E-step when mean change is < tol\n",
    "          max_doc_update_iter=100, # When to stop updating the document topic distribution in the E-step even if tol is not reached\n",
    "          n_jobs=-1, # Use all available CPUs to speed up processing time.\n",
    "          verbose=0, # amount of output to give while iterating\n",
    "          random_state=0\n",
    "         )\n",
    "\n",
    "news_group_lda = lda.fit_transform(x_train_lemma) \n",
    "\n",
    "components_lda = word_topic(x_train_lemma, news_group_lda, terms)\n",
    "\n",
    "topwords['LDA']=top_words(components_lda, n_top_words)"
   ]
  },
  {
   "cell_type": "markdown",
   "metadata": {},
   "source": [
    "### NNMF"
   ]
  },
  {
   "cell_type": "code",
   "execution_count": 718,
   "metadata": {},
   "outputs": [],
   "source": [
    "from sklearn.decomposition import NMF\n",
    "\n",
    "nmf = NMF(alpha=0.0, \n",
    "          init='nndsvdar', # how starting value are calculated\n",
    "          l1_ratio=0.0, # Sets whether regularization is L2 (0), L1 (1), or a combination (values between 0 and 1)\n",
    "          max_iter=200, # when to stop even if the model is not converging (to prevent running forever)\n",
    "          n_components=ntopics, \n",
    "          random_state=0, \n",
    "          solver='cd', # Use Coordinate Descent to solve\n",
    "          tol=0.0001, # model will stop if tfidf-WH <= tol\n",
    "          verbose=0 # amount of output to give while iterating\n",
    "         )\n",
    "news_group_nmf = nmf.fit_transform(x_train_lemma) \n",
    "\n",
    "components_nmf = word_topic(x_train_lemma, news_group_nmf, terms)\n",
    "\n",
    "topwords['NNMF']=top_words(components_nmf, n_top_words)"
   ]
  },
  {
   "cell_type": "code",
   "execution_count": 719,
   "metadata": {},
   "outputs": [
    {
     "name": "stdout",
     "output_type": "stream",
     "text": [
      "Topic 0:\n",
      "            LSA          LDA         NNMF\n",
      "0     one 118.6   window 4.5     one 3.51\n",
      "0  would 118.34     one 3.94  people 2.92\n",
      "0    like 87.81    card 3.79    think 2.7\n",
      "0    know 85.74   would 3.78   would 2.48\n",
      "0     get 85.64    know 3.39      get 2.3\n",
      "0  people 81.14     like 3.3    like 2.25\n",
      "0    think 78.4    file 3.24    know 2.07\n",
      "0    time 72.95     get 3.13    time 2.04\n",
      "0    good 65.29  anyone 3.09   thing 2.01\n",
      "0    also 63.16  thanks 3.06     say 1.94\n",
      "Topic 1:\n",
      "             LSA            LDA         NNMF\n",
      "1   window 40.99  armenian 5.27  problem 3.1\n",
      "1   thanks 29.62       one 3.53  system 1.86\n",
      "1      file 26.6    people 3.29     use 1.76\n",
      "1     drive 24.5     would 3.06    work 1.41\n",
      "1     card 24.13   turkish 2.51   using 1.34\n",
      "1       do 19.12      know 2.49  window 1.34\n",
      "1  program 18.19      like 2.32     one 1.31\n",
      "1   please 16.86       get 2.26     get 1.29\n",
      "1   anyone 16.82      test 2.22   would 1.19\n",
      "1      use 16.76     think 2.15   color 1.09\n",
      "Topic 2:\n",
      "                LSA         LDA                          NNMF\n",
      "2         edu 12.23    one 2.65                      geb 2.86\n",
      "2         pitt 9.93  would 2.63                geb cadre 2.85\n",
      "2        gordon 9.6   know 2.37             edu shameful 2.85\n",
      "2         bank 9.48    get 2.03            intellect geb 2.85\n",
      "2     pitt edu 9.44  think 1.97                cadre dsl 2.85\n",
      "2  gordon bank 9.41   like 1.85           surrender soon 2.85\n",
      "2          geb 9.41  people 1.8        pitt edu shameful 2.85\n",
      "2     shameful 9.26    say 1.49   chastity intellect geb 2.85\n",
      "2     surrender 9.2   year 1.48            geb cadre dsl 2.85\n",
      "2        cadre 9.11   also 1.46  shameful surrender soon 2.85\n",
      "Topic 3:\n",
      "            LSA              LDA         NNMF\n",
      "3    game 36.66        key 11.97    game 6.29\n",
      "3    team 27.87        chip 7.86     team 4.4\n",
      "3    year 26.37       would 7.58     year 2.8\n",
      "3  player 19.09  encryption 7.18  player 2.75\n",
      "3  season 13.33         one 6.84  season 1.96\n",
      "3     car 12.83     clipper 5.56    play 1.78\n",
      "3    play 12.72      system 5.44      win 1.7\n",
      "3     last 12.7          use 5.3  hockey 1.65\n",
      "3  hockey 11.03        know 5.22    last 1.54\n",
      "3     get 10.99  government 5.08   would 1.42\n",
      "Topic 4:\n",
      "                LSA          LDA             NNMF\n",
      "4       drive 44.05     one 2.55       drive 8.34\n",
      "4         god 19.93    would 2.2        scsi 3.16\n",
      "4        scsi 17.27    like 1.66         disk 2.4\n",
      "4        disk 13.01    know 1.63        hard 1.88\n",
      "4        card 11.57   think 1.58  hard drive 1.67\n",
      "4        hard 11.46     get 1.54         ide 1.63\n",
      "4  controller 10.31     edu 1.54      floppy 1.59\n",
      "4          ide 9.12   could 1.52  controller 1.51\n",
      "4   hard drive 8.97  thanks 1.46      system 1.01\n",
      "4    christian 8.93    good 1.42          do 0.93\n",
      "Topic 5:\n",
      "                LSA          LDA             NNMF\n",
      "5         key 32.62    would 2.1         key 6.41\n",
      "5        chip 22.51     one 2.06        chip 3.49\n",
      "5  government 15.12     know 1.7  encryption 1.94\n",
      "5       drive 14.36  window 1.66     clipper 1.87\n",
      "5  encryption 13.37    like 1.55         bit 1.54\n",
      "5      system 12.72     get 1.54      system 1.29\n",
      "5     clipper 12.22  thanks 1.49      escrow 1.27\n",
      "5       phone 10.51  anyone 1.34       phone 1.26\n",
      "5          law 9.86     use 1.29  government 1.23\n",
      "5          bit 9.03     time 1.2   algorithm 1.14\n",
      "Topic 6:\n",
      "             LSA          LDA                 NNMF\n",
      "6   window 27.79   would 2.45          thanks 5.55\n",
      "6     file 14.78     one 2.44          please 4.53\n",
      "6       do 12.04    know 1.81            mail 3.41\n",
      "6  problem 10.82     use 1.76         advance 2.39\n",
      "6       win 8.03     get 1.75  thanks advance 2.23\n",
      "6     drive 7.99    like 1.67         address 2.04\n",
      "6     think 5.92   think 1.67           email 1.91\n",
      "6       run 5.87  thanks 1.57          anyone 1.91\n",
      "6      disk 5.77  people 1.48            know 1.84\n",
      "6      team 5.76  anyone 1.45            would 1.7\n",
      "Topic 7:\n",
      "            LSA          LDA           NNMF\n",
      "7    game 25.25   would 2.36       god 6.66\n",
      "7     key 22.99     one 2.36     jesus 2.84\n",
      "7     god 22.57     let 2.21  christian 2.6\n",
      "7    team 16.96    like 2.16      bible 1.8\n",
      "7    chip 13.83    know 2.05       one 1.53\n",
      "7  player 11.29     edu 1.97   believe 1.53\n",
      "7    jesus 8.68   think 1.95    people 1.52\n",
      "7      win 7.45     get 1.79       say 1.44\n",
      "7     play 7.27  please 1.67     faith 1.42\n",
      "7   season 7.27  people 1.64    christ 1.42\n",
      "Topic 8:\n",
      "             LSA                     LDA          NNMF\n",
      "8    drive 19.78                geb 6.39    space 2.96\n",
      "8     file 15.78              cadre 6.37     nasa 1.29\n",
      "8    please 9.61        gordon bank 6.34    would 0.83\n",
      "8      game 9.34           pitt edu 6.34      year 0.8\n",
      "8       edu 8.61                 dsl 6.3  program 0.79\n",
      "8  armenian 8.25  shameful surrender 6.3   system 0.79\n",
      "8       disk 7.8            dsl pitt 6.3   launch 0.78\n",
      "8      mail 7.63      surrender soon 6.3     orbit 0.7\n",
      "8    thanks 7.55       intellect geb 6.3     data 0.69\n",
      "8      team 7.47   pitt edu shameful 6.3  shuttle 0.69\n",
      "Topic 9:\n",
      "              LSA         LDA             NNMF\n",
      "9      card 28.73  would 3.99        card 5.97\n",
      "9     video 11.37    one 3.81      driver 2.72\n",
      "9      game 10.46   know 2.85       video 2.26\n",
      "9  armenian 10.26   like 2.62     monitor 1.56\n",
      "9     israel 9.35   game 2.62  video card 1.42\n",
      "9     driver 8.56    get 2.62         bus 1.39\n",
      "9     monitor 8.4   team 2.58      window 1.22\n",
      "9        bus 7.51  could 2.35       color 1.21\n",
      "9        jew 7.44  think 2.32         vga 1.11\n",
      "9    israeli 7.31    year 2.3         mode 1.0\n",
      "Topic 10:\n",
      "                  LSA           LDA             NNMF\n",
      "10        would 22.09    would 3.05        sale 2.62\n",
      "10         know 21.44      one 2.44       offer 2.56\n",
      "10       anyone 17.65     like 2.02       price 2.06\n",
      "10       thanks 12.38       edu 2.0         new 1.94\n",
      "10  anyone know 10.45     know 1.96    shipping 1.78\n",
      "10          like 9.08      get 1.92   condition 1.41\n",
      "10         think 7.33   thanks 1.89  best offer 1.23\n",
      "10        window 7.23      use 1.84         one 1.23\n",
      "10         could 7.03  problem 1.71      asking 1.17\n",
      "10         drive 6.97    think 1.71        sell 1.16\n",
      "Topic 11:\n",
      "               LSA          LDA           NNMF\n",
      "11       car 17.92     get 3.42  armenian 5.32\n",
      "11  armenian 14.13      one 3.4   turkish 1.87\n",
      "11       key 12.82   would 3.34    people 1.32\n",
      "11    window 10.33    like 2.96   armenia 1.18\n",
      "11       know 8.85    know 2.84      turk 1.11\n",
      "11       bike 8.52  thanks 2.67    turkey 1.08\n",
      "11        god 8.01      edu 2.6  genocide 0.99\n",
      "11     anyone 7.47   think 2.57     azeri 0.95\n",
      "11     thanks 7.31  please 2.49    muslim 0.92\n",
      "11    turkish 5.94    also 2.39     greek 0.83\n",
      "Topic 12:\n",
      "             LSA              LDA              NNMF\n",
      "12  window 18.79      drive 16.56       window 7.53\n",
      "12     law 11.74        scsi 9.54           do 2.17\n",
      "12  please 11.17         card 6.6         file 1.49\n",
      "12     gun 10.86  controller 6.38      program 1.27\n",
      "12     car 10.85         ide 5.82       driver 1.15\n",
      "12     sale 9.67        disk 5.71      manager 0.99\n",
      "12     offer 8.3          bus 5.7          use 0.96\n",
      "12     right 8.2         one 4.97      version 0.95\n",
      "12     mail 7.98      system 4.86  application 0.94\n",
      "12    price 6.98       would 4.65         font 0.86\n",
      "Topic 13:\n",
      "             LSA          LDA            NNMF\n",
      "13    file 27.61   would 9.62       file 7.58\n",
      "13     car 13.79     one 8.78     window 1.89\n",
      "13  driver 12.38  people 8.16    program 1.55\n",
      "13    card 12.29   think 6.41        ftp 1.47\n",
      "13      ftp 8.77    time 6.22     format 1.35\n",
      "13      gun 8.04    like 5.89  directory 1.24\n",
      "13       law 7.9    know 5.73         do 1.15\n",
      "13     site 5.45     god 5.73      image 1.09\n",
      "13      zip 5.07   right 5.51        use 0.99\n",
      "13   format 4.85     get 5.49        disk 0.9\n",
      "Topic 14:\n",
      "                 LSA         LDA             NNMF\n",
      "14       israel 19.9  would 3.74      israel 5.24\n",
      "14       would 15.26    one 3.08     israeli 3.67\n",
      "14     israeli 14.11   like 2.61        arab 2.99\n",
      "14         jew 11.56   know 2.39         jew 2.69\n",
      "14        arab 11.25    get 2.35  palestinian 1.5\n",
      "14        like 10.66  people 2.2       state 1.24\n",
      "14         file 8.03  think 2.08      jewish 1.23\n",
      "14          car 7.54   also 1.98       would 1.19\n",
      "14       jewish 6.76    time 1.9       right 1.08\n"
     ]
    },
    {
     "name": "stdout",
     "output_type": "stream",
     "text": [
      "14  palestinian 5.66   good 1.88         war 1.05\n",
      "Topic 15:\n",
      "                LSA           LDA             NNMF\n",
      "15      would 30.62      one 2.38       would 7.67\n",
      "15       like 18.56    would 2.12         like 3.4\n",
      "15        file 13.5     like 1.94  would like 1.94\n",
      "15  would like 9.79      get 1.88         one 1.83\n",
      "15    armenian 8.02      know 1.8        know 1.62\n",
      "15       sound 7.01  feustel 1.65         get 1.52\n",
      "15       offer 6.79      key 1.56       could 1.45\n",
      "15        game 6.44      com 1.48       think 1.45\n",
      "15        sale 6.26     time 1.39      people 1.34\n",
      "15       price 5.03   anyone 1.37        also 1.27\n",
      "Topic 16:\n",
      "                LSA           LDA         NNMF\n",
      "16      would 22.61  window 56.24     car 6.91\n",
      "16      space 14.56   would 51.46    bike 2.05\n",
      "16        car 12.69  thanks 49.52  engine 1.22\n",
      "16       system 9.6     one 47.55     one 1.12\n",
      "16      driver 8.17    know 45.79    mile 1.11\n",
      "16        nasa 6.41     get 43.28   would 1.05\n",
      "16       anyone 6.1    like 42.99    like 1.05\n",
      "16      window 6.06    file 42.42     get 1.02\n",
      "16  would like 4.64  anyone 42.03    good 1.01\n",
      "16          do 4.55     use 41.13    year 0.93\n",
      "Topic 17:\n",
      "             LSA          LDA             NNMF\n",
      "17     com 18.95    game 4.94         gun 5.03\n",
      "17    like 13.33   would 4.76         law 2.98\n",
      "17   think 13.17     one 4.68      people 2.18\n",
      "17     edu 10.81    year 4.55       right 2.01\n",
      "17  please 10.09     get 3.72  government 1.93\n",
      "17      get 9.64    team 3.37       would 1.91\n",
      "17      say 9.36    know 3.31       state 1.63\n",
      "17     post 7.84    like 3.29       crime 1.57\n",
      "17   people 7.44   could 3.29      weapon 1.56\n",
      "17  someone 7.43  people 3.15         one 1.37\n",
      "Topic 18:\n",
      "              LSA           LDA              NNMF\n",
      "18  problem 19.63   would 74.98       anyone 5.94\n",
      "18      car 18.92     one 72.52         know 5.81\n",
      "18     would 9.96  people 62.11  anyone know 4.24\n",
      "18       com 8.77   think 54.72       thanks 2.23\n",
      "18       use 6.96    like 50.32        would 1.73\n",
      "18       gun 5.76     god 50.25          one 1.42\n",
      "18      help 5.73    know 48.76         like 1.36\n",
      "18    system 5.57     get 46.72          get 1.33\n",
      "18       game 5.5    year 46.61        window 1.1\n",
      "18    thanks 5.11    time 45.89      program 1.07\n",
      "Topic 19:\n",
      "              LSA          LDA        NNMF\n",
      "19     year 18.63   would 5.21    com 5.53\n",
      "19  problem 14.35     one 4.83   port 1.81\n",
      "19   system 12.52     edu 4.14    edu 1.75\n",
      "19      time 9.27     get 4.03    irq 1.69\n",
      "19      file 8.35    like 3.97   mouse 1.4\n",
      "19       ago 7.99    know 3.64   modem 1.3\n",
      "19      last 6.97  window 3.49  serial 1.0\n",
      "19      week 5.62   think 3.48    one 0.87\n",
      "19        do 5.48   stuff 3.26   card 0.77\n",
      "19      post 5.41  people 3.21    use 0.77\n"
     ]
    }
   ],
   "source": [
    "for topic in range(ntopics):\n",
    "    print('Topic {}:'.format(topic))\n",
    "    print(topwords.loc[topic])\n",
    "    "
   ]
  },
  {
   "cell_type": "markdown",
   "metadata": {},
   "source": [
    "### Inspecting the weight of word in different topics"
   ]
  },
  {
   "cell_type": "code",
   "execution_count": 727,
   "metadata": {},
   "outputs": [
    {
     "data": {
      "image/png": "[encoded data removed]",
      "text/plain": [
       "<Figure size 432x288 with 1 Axes>"
      ]
     },
     "metadata": {},
     "output_type": "display_data"
    },
    {
     "data": {
      "image/png": "[encoded data removed]",
      "text/plain": [
       "<Figure size 432x288 with 1 Axes>"
      ]
     },
     "metadata": {},
     "output_type": "display_data"
    },
    {
     "data": {
      "image/png": "[encoded data removed]",
      "text/plain": [
       "<Figure size 432x288 with 1 Axes>"
      ]
     },
     "metadata": {},
     "output_type": "display_data"
    },
    {
     "data": {
      "image/png": "[encoded data removed]",
      "text/plain": [
       "<Figure size 432x288 with 1 Axes>"
      ]
     },
     "metadata": {},
     "output_type": "display_data"
    }
   ],
   "source": [
    "# The words to look at.\n",
    "targetwords=['god','file','game','motor']\n",
    "\n",
    "# Storing the loadings.\n",
    "wordloadings=pd.DataFrame(columns=targetwords)\n",
    "\n",
    "# For each word, extracting and string the loadings for each method.\n",
    "for word in targetwords:\n",
    "    loadings=components_lsa.loc[word].append(\n",
    "        components_lda.loc[word]).append(\n",
    "            components_nmf.loc[word])\n",
    "    wordloadings[word]=loadings\n",
    "\n",
    "# Labeling the data by method and providing an ordering variable for graphing purposes. \n",
    "wordloadings['method']=np.repeat(['LSA','LDA','NNMF'], 20, axis=0)\n",
    "wordloadings['loading']=[0,1,2,3,4,5,6,7,8,9,10,11,12,13,14,15,16,17,18,19]*3\n",
    "\n",
    "sns.set(style=\"darkgrid\")\n",
    "\n",
    "for word in targetwords:\n",
    "    sns.barplot(x=\"method\", y=word, hue=\"loading\", data=wordloadings)\n",
    "    plt.title(word)\n",
    "    plt.ylabel(\"\")\n",
    "#     plt.tight_layout()\n",
    "    plt.show()"
   ]
  },
  {
   "cell_type": "markdown",
   "metadata": {},
   "source": [
    "##### Summary: for the first 4 words, LDA and NNMF showed a more clearly emphasizing on one particle topics than LSA. For the word 'motor', it seems LSA works better in classifying the topics."
   ]
  },
  {
   "cell_type": "markdown",
   "metadata": {},
   "source": [
    "### Unsupervised learning with LSA: KMeans and GaussianMixture"
   ]
  },
  {
   "cell_type": "code",
   "execution_count": 744,
   "metadata": {},
   "outputs": [
    {
     "name": "stdout",
     "output_type": "stream",
     "text": [
      "Comparing k-means clusters against news groups:\n",
      "col_0    0    1    2    3    4    5    6    7    8   9   10   11   12   13  \\\n",
      "source                                                                       \n",
      "0         2    2    5  199    0    7   22    0    3   7  12   15    2    1   \n",
      "1         1   11  127   12   45    0   13   26    1  90  16   38  114    5   \n",
      "2         0    8   50    4   76    1    9  185    1  33  34   11  107    4   \n",
      "3         0   14   73    9  154    0   14   29    3  48  12    8   13    8   \n",
      "4         0   37  139    8  100    0   29    2    0  70  22    7    6    8   \n",
      "5         0    1  191    6    6    0    6  154    2  60   5   12   55   13   \n",
      "6         0  330    9    8   26    0    7   19   11  11   8   16    2    5   \n",
      "7         1   12   18   21    0    0   94    5    0  24  34   17    0    5   \n",
      "8         1   17    8   36    2    0  359    2    4  21  15   14    3    0   \n",
      "9         0    3    1   30    0    5   62    1  352  29  30   25    2    1   \n",
      "10        0    2    5   17    1    0   32    0  454   9  17    9    1    0   \n",
      "11        1    0   21   54    0    0   17    2    2   5  14   30   18  304   \n",
      "12        0   21  167   14   16    0   54    4    3  84  17   35    5   16   \n",
      "13        0    1   35  168    0    1  101    1    0  42  92   83    1    1   \n",
      "14        1    5   21   63    0    0   45    0    0  24  16  293   10    1   \n",
      "15        1    0    1   97    0    6   14    0    0  18   9   12    1    0   \n",
      "16        1    0    3   90    3    1   25    0    2   5  14   15    2    2   \n",
      "17      132    2    2   72    0  237   22    0    1   3  18   18    4    0   \n",
      "18        6    3    2  167    0    3   24    0    2   7  14   64    0    2   \n",
      "19        1    2    5  138    0    5   13    1    1   5  20   17    0    2   \n",
      "\n",
      "col_0   14   15  16   17   18   19  \n",
      "source                              \n",
      "0       24    0  26   32    4  117  \n",
      "1       46    1  38    0    0    0  \n",
      "2       33   18  15    0    0    2  \n",
      "3       40  138  24    0    3    0  \n",
      "4       29   90  28    1    2    0  \n",
      "5       50    3  29    0    0    0  \n",
      "6       56   45  13    2   15    2  \n",
      "7       17    6  38   16  284    2  \n",
      "8       26   10  22   17   37    4  \n",
      "9       30    2  18    1    1    4  \n",
      "10      27    0  21    2    2    1  \n",
      "11      29    2  31   64    0    1  \n",
      "12      36   14  71   12   21    1  \n",
      "13      21    0  42    4    0    1  \n",
      "14      31    0  68    8    2    5  \n",
      "15      16    0  23    9    0  392  \n",
      "16      24    0  38  313    4    4  \n",
      "17      14    0  23    9    2    5  \n",
      "18      13    4  34  115    2    3  \n",
      "19      11    0  17   16    1  122  \n"
     ]
    }
   ],
   "source": [
    "# kmean\n",
    "x_norm = normalize(news_group_lsa)\n",
    "\n",
    "kmeans = KMeans(n_clusters=20, random_state=123)\n",
    "y_predict = kmeans.fit_predict(x_norm)\n",
    "\n",
    "# Check the solution against the data.\n",
    "print('Comparing k-means clusters against news groups:')\n",
    "print(pd.crosstab(Y_train, y_predict))"
   ]
  },
  {
   "cell_type": "code",
   "execution_count": 746,
   "metadata": {},
   "outputs": [
    {
     "name": "stdout",
     "output_type": "stream",
     "text": [
      "Comparing k-means clusters against news groups:\n",
      "col_0    0    1    2    3    4   5    6    7    8    9    10   11   12  13  \\\n",
      "source                                                                       \n",
      "0         2    4   16    0    2  12   73    1  115    5    0   16   79  14   \n",
      "1        10    4   73    4    0  16    0  100    0    0  154   21   14  69   \n",
      "2         1    3   64   20    0  33    2  119    0    0  197   14    4  21   \n",
      "3        18    5   88  181    0  12    0   31    0    1   24   10    2  24   \n",
      "4        40    3  117  105    0  21    0   32    0    4   14    5    7  28   \n",
      "5         1   14   58    3    0   5    0  268    0    0  108   15    4  49   \n",
      "6       252    1   55  101    0   8    0   20    0   12    7   24   15  26   \n",
      "7        37    3   75    2    1  33    8    3    0  282    0    6   25  26   \n",
      "8        33    1   44    7    6  15   11    2    3   81    1   21   30  28   \n",
      "9        86    2    7    1  264  29    1    0    1    1    0   26   72  56   \n",
      "10       76    0    5    0  366  17    0    0    0    2    0   18   50  38   \n",
      "11        3  314   98    1    0  13   51    8    0    0    9    8   30  18   \n",
      "12       27    5  124   13    0  17    6   39    1   29   13   13   20  74   \n",
      "13        4    0   18    0    2  24    6    1    0    4    1  104   50  40   \n",
      "14        9    3   48    1    5  16   15    5    2    1   10   14   25  54   \n",
      "15        0    0    3    0    2   9   18    0  369    2    0    5   74  17   \n",
      "16        2    8   20    1    1  14  306    1    3   21    2   20   87   6   \n",
      "17        1    4    7    0    0  18   19    0    3    2    1    5   90   8   \n",
      "18        4    3   12    2    6  14  174    1    4    6    0    6  103  10   \n",
      "19        3    1   10    0    2  19   31    1  118    6    0    8   66   7   \n",
      "\n",
      "col_0    14   15   16   17   18   19  \n",
      "source                                \n",
      "0        40   10    0   10    1   80  \n",
      "1        10   28   72    0    0    9  \n",
      "2         3    5  101    1    0    3  \n",
      "3         8    3  180    0    0    3  \n",
      "4         6    4  187    0    0    5  \n",
      "5         8    7   52    0    0    1  \n",
      "6         9   10   34    0    0   11  \n",
      "7        28    4   10    0    0   51  \n",
      "8        45    9    3    0    0  258  \n",
      "9        14    1    1    5    0   30  \n",
      "10        7    0    2    0    0   19  \n",
      "11        8   21    4    0    1    8  \n",
      "12       45   78   62    0    0   25  \n",
      "13      266   23    2    1    0   48  \n",
      "14       58  289    1    0    0   37  \n",
      "15       39    1    0    5    1   54  \n",
      "16       25    5    0    1    0   23  \n",
      "17       17    1    0  232  128   28  \n",
      "18       34   28    0    2    0   56  \n",
      "19       24    4    0    7    1   69  \n"
     ]
    }
   ],
   "source": [
    "# GaussianMixtureModel\n",
    "from sklearn.mixture import GaussianMixture\n",
    "\n",
    "gmm_cluster = GaussianMixture(n_components=20, random_state=123)\n",
    "clusters = gmm_cluster.fit_predict(news_group_lsa)\n",
    "\n",
    "# Check the solution against the data.\n",
    "print('Comparing k-means clusters against news groups:')\n",
    "print(pd.crosstab(Y_train, clusters))"
   ]
  },
  {
   "cell_type": "markdown",
   "metadata": {},
   "source": [
    "##### Summary: it seems both kmeans and GaussianMixtureModel does not work very well"
   ]
  },
  {
   "cell_type": "markdown",
   "metadata": {},
   "source": [
    "### Text summarization"
   ]
  },
  {
   "cell_type": "markdown",
   "metadata": {},
   "source": [
    "### Selecting 3 news_groups and choosing the highest score sentence to summarize the text"
   ]
  },
  {
   "cell_type": "code",
   "execution_count": 861,
   "metadata": {},
   "outputs": [
    {
     "name": "stdout",
     "output_type": "stream",
     "text": [
      "Topic: rec.autos\n",
      "(0.004536602182237048, '\"If you buy the Supra, your rate classification will be the same as\\nthe Celica (the \\'85 Celica was considered a subcompact and for that\\nyear was rated as one of the safest cars), with a slight increase because\\nthe car will be 2 years newer.')\n",
      "\n",
      "Topic: rec.sport.baseball\n",
      "(0.002830155469389331, \"Even if Robinson's extra 3 putouts, 2 assists, and 5 DPs are taken to mean\\nhe was responsible for 10 more outs in the field, that doesn't make up\\nfor the extra 28 outs he made at the plate, not to mention the fewer\\ntotal bases.\")\n",
      "\n",
      "Topic: talk.politics.mideast\n",
      "(0.0020860798328957296, 'Yet despite the efforts of the x-Soviet Armenian government and its terrorist\\nand revisionist organizations, in the last decades, thanks to the struggle \\nof those whose closest ones were systematically exterminated by the Armenians,\\nthe international wall of silence on this issue has begun to collapse, and \\nconsequently a number of governments and organizations have become \\nsupportive of the recognition of the Turkish Genocide.')\n",
      "\n"
     ]
    }
   ],
   "source": [
    "for news_group in ['rec.autos','rec.sport.baseball','talk.politics.mideast']:\n",
    "\n",
    "    auto = df_train[df_train['label']== news_group]['text'][:50]\n",
    "    auto_str = ' '.join(auto)\n",
    "\n",
    "\n",
    "# Importing the text the lazy way.\n",
    "    text = auto_str\n",
    "\n",
    "# We want to use the standard english-language parser.\n",
    "    parser = spacy.load('en')\n",
    "    \n",
    "# Parsing Gatsby.\n",
    "    text = parser(text)\n",
    "\n",
    "# Dividing the text into sentences and storing them as a list of strings.\n",
    "    sentences=[]\n",
    "    for span in text.sents:\n",
    "    # go from the start to the end of each span, returning each token in the sentence\n",
    "    # combine each token using join()\n",
    "        sent = ''.join(text[i].string for i in range(span.start, span.end)).strip()\n",
    "        sentences.append(sent)\n",
    "\n",
    "# Creating the tf-idf matrix.\n",
    "    counter = TfidfVectorizer(lowercase=False, \n",
    "                              stop_words=None,\n",
    "                              ngram_range=(1, 1), \n",
    "                              analyzer=u'word', \n",
    "                              max_df=.5, \n",
    "                              min_df=1,\n",
    "                              max_features=None, \n",
    "                              vocabulary=None, \n",
    "                              binary=False)\n",
    "\n",
    "#Applying the vectorizer\n",
    "    data_counts=counter.fit_transform(sentences)\n",
    "    \n",
    "# Calculating similarity\n",
    "    similarity = data_counts * data_counts.T\n",
    "\n",
    "# Identifying the sentence with the highest rank.\n",
    "    nx_graph = nx.from_scipy_sparse_matrix(similarity)\n",
    "    ranks=nx.pagerank(nx_graph, alpha=.85, tol=.00000001)\n",
    "\n",
    "    ranked = sorted(((ranks[i],s) for i,s in enumerate(sentences)),\n",
    "                reverse=True)\n",
    "    print('Topic: {}'.format(news_group))\n",
    "    print(ranked[0])\n",
    "    print()"
   ]
  },
  {
   "cell_type": "markdown",
   "metadata": {},
   "source": [
    "##### Summary: from the sentence selected by each news_group, it seems can be used for identifying the field of news very well."
   ]
  },
  {
   "cell_type": "markdown",
   "metadata": {},
   "source": [
    "### word2vec"
   ]
  },
  {
   "cell_type": "code",
   "execution_count": 28,
   "metadata": {},
   "outputs": [],
   "source": [
    "import string\n",
    "from nltk.tokenize import word_tokenize\n",
    "from nltk.corpus import stopwords"
   ]
  },
  {
   "cell_type": "code",
   "execution_count": 29,
   "metadata": {},
   "outputs": [],
   "source": [
    "news_lines=list()\n",
    "lines = df_train['clean_text_lemma'].values.tolist()\n",
    "\n",
    "for line in lines:\n",
    "    tokens = word_tokenize(line)\n",
    "    \n",
    "    tokens = [w.lower() for w in tokens]\n",
    "    \n",
    "    table = str.maketrans('', '', string.punctuation)\n",
    "    stripped = [w.translate(table) for w in tokens]\n",
    "    \n",
    "    words = [word for word in stripped if word.isalpha()]\n",
    "    \n",
    "    stop_words = set(stopwords.words('english'))\n",
    "    words = [w for w in words if not w in stop_words]\n",
    "    news_lines.append(words)"
   ]
  },
  {
   "cell_type": "code",
   "execution_count": 30,
   "metadata": {},
   "outputs": [
    {
     "name": "stdout",
     "output_type": "stream",
     "text": [
      "vocabulary size: 17151\n"
     ]
    }
   ],
   "source": [
    "import gensim\n",
    "# from gensim.models import Word2Vec\n",
    "\n",
    "model = gensim.models.Word2Vec(sentences=news_lines, window=5, workers=4, min_count=5)\n",
    "# model=Word2Vec(sentences=review_lines)\n",
    "\n",
    "words = list(model.wv.vocab)\n",
    "print('vocabulary size: %d' % len(words))"
   ]
  },
  {
   "cell_type": "markdown",
   "metadata": {},
   "source": [
    "##### Exploring the similarities between different words"
   ]
  },
  {
   "cell_type": "code",
   "execution_count": 623,
   "metadata": {},
   "outputs": [
    {
     "name": "stdout",
     "output_type": "stream",
     "text": [
      "[('disk', 0.9235545992851257), ('ide', 0.8905043005943298), ('tape', 0.8877245783805847), ('controller', 0.8873456716537476), ('syquest', 0.873569905757904), ('cable', 0.8652119636535645), ('meg', 0.860806405544281), ('motherboard', 0.8473582863807678), ('quantum', 0.8438715934753418), ('internal', 0.8411087393760681)]\n",
      "0.90416545\n",
      "0.21537118\n"
     ]
    },
    {
     "name": "stderr",
     "output_type": "stream",
     "text": [
      "C:\\ProgramData\\Anaconda3\\lib\\site-packages\\ipykernel_launcher.py:11: DeprecationWarning: Call to deprecated `doesnt_match` (Method will be removed in 4.0.0, use self.wv.doesnt_match() instead).\n",
      "  # This is added back by InteractiveShellApp.init_path()\n"
     ]
    },
    {
     "name": "stdout",
     "output_type": "stream",
     "text": [
      "think\n"
     ]
    }
   ],
   "source": [
    "vocab = model.wv.vocab.keys()\n",
    "\n",
    "print(model.wv.most_similar(positive=['hard', 'drive', 'floppy'], negative=['god']))\n",
    "\n",
    "# Similarity is calculated using the cosine, so again 1 is total\n",
    "# similarity and 0 is no similarity.\n",
    "print(model.wv.similarity('drive', 'floppy'))\n",
    "print(model.wv.similarity('drive', 'think'))\n",
    "\n",
    "# One of these things is not like the other...\n",
    "print(model.doesnt_match(\"hard disk drive think\".split()))"
   ]
  },
  {
   "cell_type": "markdown",
   "metadata": {},
   "source": [
    "##### Finding the most similar and dissimilar words"
   ]
  },
  {
   "cell_type": "code",
   "execution_count": 927,
   "metadata": {},
   "outputs": [
    {
     "name": "stdout",
     "output_type": "stream",
     "text": [
      "[('jewish', 0.25071102380752563), ('history', 0.24265269935131073), ('hfe', 0.23397359251976013), ('greek', 0.23135961592197418), ('turkish', 0.2268770933151245), ('organization', 0.21128369867801666), ('president', 0.2112763524055481), ('ozal', 0.21043533086776733), ('israeli', 0.20508508384227753), ('exterminate', 0.20407864451408386)]\n",
      "\n",
      "[('tape', 0.9751332998275757), ('seagate', 0.9721575379371643), ('reformat', 0.9692538976669312), ('controller', 0.969180166721344), ('pli', 0.9634204506874084), ('disk', 0.9633415937423706), ('ide', 0.9631323218345642), ('meg', 0.9579814672470093), ('iisi', 0.9563916921615601), ('quantum', 0.9560303092002869)]\n"
     ]
    }
   ],
   "source": [
    "print(model.wv.most_similar(negative=[\"floppy\"]))\n",
    "print()\n",
    "print(model.wv.most_similar(positive=[\"floppy\"]))"
   ]
  },
  {
   "cell_type": "markdown",
   "metadata": {},
   "source": [
    "##### Plotting similar and dissimilar words in a 2-D plot"
   ]
  },
  {
   "cell_type": "code",
   "execution_count": 1,
   "metadata": {},
   "outputs": [],
   "source": [
    "import numpy as np\n",
    "import matplotlib.pyplot as plt\n",
    "%matplotlib inline\n",
    " \n",
    "import seaborn as sns\n",
    "sns.set_style(\"darkgrid\")\n",
    "\n",
    "from sklearn.decomposition import PCA\n",
    "from sklearn.manifold import TSNE"
   ]
  },
  {
   "cell_type": "code",
   "execution_count": 31,
   "metadata": {},
   "outputs": [],
   "source": [
    "def tsnescatterplot(model, word, list_names):\n",
    "    \"\"\" Plot in seaborn the results from the t-SNE dimensionality reduction algorithm of the vectors of a query word,\n",
    "    its list of most similar words, and a list of words.\n",
    "    \"\"\"\n",
    "    arrays = np.empty((0, 100), dtype='f')\n",
    "    word_labels = [word]\n",
    "    color_list  = ['red']\n",
    "\n",
    "    # adds the vector of the query word\n",
    "    arrays = np.append(arrays, model.wv.__getitem__([word]), axis=0)\n",
    "    \n",
    "    # gets list of most similar words\n",
    "    close_words = model.wv.most_similar([word])\n",
    "    \n",
    "    # adds the vector for each of the closest words to the array\n",
    "    for wrd_score in close_words:\n",
    "        wrd_vector = model.wv.__getitem__([wrd_score[0]])\n",
    "        word_labels.append(wrd_score[0])\n",
    "        color_list.append('blue')\n",
    "        arrays = np.append(arrays, wrd_vector, axis=0)\n",
    "    \n",
    "    # adds the vector for each of the words from list_names to the array\n",
    "    for wrd in list_names:\n",
    "        wrd_vector = model.wv.__getitem__([wrd])\n",
    "        word_labels.append(wrd)\n",
    "        color_list.append('green')\n",
    "        arrays = np.append(arrays, wrd_vector, axis=0)\n",
    "        \n",
    "    # Reduces the dimensionality from 19 to 10 dimensions with PCA\n",
    "    reduc = PCA(n_components=10).fit_transform(arrays)\n",
    "    \n",
    "    # Finds t-SNE coordinates for 2 dimensions\n",
    "    np.set_printoptions(suppress=True)\n",
    "    \n",
    "    Y = TSNE(n_components=2, random_state=0, perplexity=15).fit_transform(reduc)\n",
    "    \n",
    "    # Sets everything up to plot\n",
    "    df = pd.DataFrame({'x': [x for x in Y[:, 0]],\n",
    "                       'y': [y for y in Y[:, 1]],\n",
    "                       'words': word_labels,\n",
    "                       'color': color_list})\n",
    "    \n",
    "    fig, _ = plt.subplots()\n",
    "    fig.set_size_inches(9, 9)\n",
    "    \n",
    "    # Basic plot\n",
    "    p1 = sns.regplot(data=df,\n",
    "                     x=\"x\",\n",
    "                     y=\"y\",\n",
    "                     fit_reg=False,\n",
    "                     marker=\"o\",\n",
    "                     scatter_kws={'s': 40,\n",
    "                                  'facecolors': df['color']\n",
    "                                 }\n",
    "                    )\n",
    "    \n",
    "    # Adds annotations one by one with a loop\n",
    "    for line in range(0, df.shape[0]):\n",
    "         p1.text(df[\"x\"][line],\n",
    "                 df['y'][line],\n",
    "                 '  ' + df[\"words\"][line].title(),\n",
    "                 horizontalalignment='left',\n",
    "                 verticalalignment='bottom', size='medium',\n",
    "                 color=df['color'][line],\n",
    "                 weight='normal'\n",
    "                ).set_size(15)\n",
    "\n",
    "    \n",
    "    plt.xlim(Y[:, 0].min()-50, Y[:, 0].max()+50)\n",
    "    plt.ylim(Y[:, 1].min()-50, Y[:, 1].max()+50)\n",
    "            \n",
    "    plt.title('t-SNE visualization for {}'.format(word.title()))"
   ]
  },
  {
   "cell_type": "code",
   "execution_count": 34,
   "metadata": {},
   "outputs": [
    {
     "data": {
      "image/png": "[encoded data removed]",
      "text/plain": [
       "<Figure size 648x648 with 1 Axes>"
      ]
     },
     "metadata": {
      "needs_background": "light"
     },
     "output_type": "display_data"
    }
   ],
   "source": [
    "tsnescatterplot(model, 'floppy', ['dog', 'bird', 'good', 'make', 'bob', 'mel', 'apple', 'duff'])"
   ]
  },
  {
   "cell_type": "code",
   "execution_count": 40,
   "metadata": {},
   "outputs": [
    {
     "data": {
      "image/png": "[encoded data removed]",
      "text/plain": [
       "<Figure size 648x648 with 1 Axes>"
      ]
     },
     "metadata": {
      "needs_background": "light"
     },
     "output_type": "display_data"
    }
   ],
   "source": [
    "tsnescatterplot(model, 'floppy', [i[0] for i in model.wv.most_similar(negative=[\"floppy\"])]);"
   ]
  },
  {
   "cell_type": "markdown",
   "metadata": {},
   "source": [
    "##### Summary: word2vec works very well to identify similar words or extract words which are different from others"
   ]
  },
  {
   "cell_type": "markdown",
   "metadata": {},
   "source": [
    "## Conclusion:"
   ]
  },
  {
   "cell_type": "markdown",
   "metadata": {},
   "source": [
    "* As applying stemming or lemmatization to the text did not alter the machine learning model accuracy significantly\n",
    "* Model results did not changed much as using different ngrams in the vectorization step\n",
    "* Various supervised machine learning models were studied and Naive_Bayes seems worked best interms of model accuracy and efficiency\n",
    "* The top words calucated by Naive_Bayes model seems highly correlated with their corresponding news groups\n",
    "* Text extraction were performed using LSA, LDA, and NNMF, and they showed clearly different performace for different topics\n",
    "* Unsupervised learning: KMeans and GaussianMixtureModel were explorated in this project and both of them are not promising for identifying news groups\n",
    "* Text summarization techniques were used and it seems works well for select the most representative sentence\n",
    "* Word2vec has worked successfully for finding similar and dissimilar words "
   ]
  },
  {
   "cell_type": "code",
   "execution_count": null,
   "metadata": {},
   "outputs": [],
   "source": []
  },
  {
   "cell_type": "code",
   "execution_count": null,
   "metadata": {},
   "outputs": [],
   "source": []
  }
 ],
 "metadata": {
  "kernelspec": {
   "display_name": "Python 3",
   "language": "python",
   "name": "python3"
  },
  "language_info": {
   "codemirror_mode": {
    "name": "ipython",
    "version": 3
   },
   "file_extension": ".py",
   "mimetype": "text/x-python",
   "name": "python",
   "nbconvert_exporter": "python",
   "pygments_lexer": "ipython3",
   "version": "3.7.3"
  }
 },
 "nbformat": 4,
 "nbformat_minor": 2
}
